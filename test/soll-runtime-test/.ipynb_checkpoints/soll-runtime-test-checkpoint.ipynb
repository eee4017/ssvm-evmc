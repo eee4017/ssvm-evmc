{
 "cells": [
  {
   "cell_type": "code",
   "execution_count": 1,
   "metadata": {},
   "outputs": [],
   "source": [
    "import ctypes\n",
    "from binascii import unhexlify\n",
    "from evmc import *\n",
    "import os, signal\n",
    "from Crypto.Util.number import *\n",
    "\n",
    "handle = ctypes.cdll.LoadLibrary('./libsoll_runtime_test.so')"
   ]
  },
  {
   "cell_type": "code",
   "execution_count": 3,
   "metadata": {},
   "outputs": [],
   "source": [
    "a = (ctypes.c_byte)(0x7ffffffff)"
   ]
  },
  {
   "cell_type": "code",
   "execution_count": 4,
   "metadata": {},
   "outputs": [],
   "source": [
    "def b2cb(ba):\n",
    "    char_array = (ctypes.c_buffer * len(ba))\n",
    "    \n",
    "    return char_array.from_buffer(ba)"
   ]
  },
  {
   "cell_type": "code",
   "execution_count": 5,
   "metadata": {},
   "outputs": [],
   "source": [
    "k = long_to_bytes(0x7ffffffff)"
   ]
  },
  {
   "cell_type": "code",
   "execution_count": 6,
   "metadata": {},
   "outputs": [],
   "source": [
    "_sender = struct_evmc_address()\n",
    "_sender.bytes = bytes(ctypes.c_buffer(long_to_bytes(0x7ffffffff), size=20))"
   ]
  },
  {
   "cell_type": "code",
   "execution_count": 2,
   "metadata": {},
   "outputs": [],
   "source": [
    "s = ctypes.c_buffer(long_to_bytes(0x7ffffffff), size=20)"
   ]
  },
  {
   "cell_type": "code",
   "execution_count": 4,
   "metadata": {},
   "outputs": [
    {
     "data": {
      "text/plain": [
       "<__main__.LP_c_char_Array_20 at 0x7fca6e187540>"
      ]
     },
     "execution_count": 4,
     "metadata": {},
     "output_type": "execute_result"
    }
   ],
   "source": [
    "ctypes.pointer(s)"
   ]
  },
  {
   "cell_type": "code",
   "execution_count": 16,
   "metadata": {},
   "outputs": [],
   "source": [
    "def evmc_vm_execute(calldata:bytes, sender:bytes, wasm:bytes):\n",
    "    _evmc_vm_execute = handle.evmc_vm_execute\n",
    "    \n",
    "    _sender = ctypes.c_buffer(long_to_bytes(0x7ffffffff), size=20)\n",
    "#     _sender.bytes = ctypes.c_buffer(long_to_bytes(0x7ffffffff), size=20)\n",
    "    _destination = ctypes.c_buffer(long_to_bytes(0x7ffffffff), size=20)\n",
    "#     _destination.bytes = ctypes.c_buffer(long_to_bytes(0x7ffffffff), size=20)\n",
    "    \n",
    "    \n",
    "    result = struct_evmc_result()\n",
    "    _evmc_vm_execute( \n",
    "                    ctypes.cast(calldata, ctypes.c_char_p), \n",
    "                    len(calldata), \n",
    "                    ctypes.pointer(_sender),\n",
    "                    ctypes.pointer(_destination),\n",
    "                    ctypes.cast(wasm, ctypes.c_char_p), \n",
    "                    len(wasm), \n",
    "                    ctypes.pointer(result))\n",
    "    \n",
    "    return evmc_status_code__enumvalues[result.status_code], result\n",
    "\n",
    "def evmc_vm_deploy(deploy_wasm:bytes):\n",
    "    _evmc_vm_deploy = handle.evmc_vm_deploy\n",
    "\n",
    "    result = struct_evmc_result()\n",
    "    _evmc_vm_deploy(ctypes.cast(deploy_wasm, ctypes.c_char_p), \n",
    "                    len(deploy_wasm), \n",
    "                    ctypes.pointer(result))\n",
    "    \n",
    "    return evmc_status_code__enumvalues[result.status_code], result"
   ]
  },
  {
   "cell_type": "code",
   "execution_count": 17,
   "metadata": {},
   "outputs": [],
   "source": [
    "comparison_lt = open('wasm/comparison_lt.wasm', 'rb').read()"
   ]
  },
  {
   "cell_type": "code",
   "execution_count": 18,
   "metadata": {},
   "outputs": [],
   "source": [
    "calldata = unhexlify(\"\")\n",
    "sender = unhexlify(\"\")"
   ]
  },
  {
   "cell_type": "code",
   "execution_count": null,
   "metadata": {},
   "outputs": [],
   "source": [
    "_, result = evmc_vm_execute(calldata, sender, comparison_lt)"
   ]
  },
  {
   "cell_type": "code",
   "execution_count": 5,
   "metadata": {},
   "outputs": [],
   "source": [
    "_, result = evmc_vm_deploy(comparison_lt)"
   ]
  },
  {
   "cell_type": "code",
   "execution_count": 6,
   "metadata": {},
   "outputs": [
    {
     "name": "stdout",
     "output_type": "stream",
     "text": [
      "EVMC_SUCCESS\n"
     ]
    }
   ],
   "source": [
    "print(_)"
   ]
  },
  {
   "cell_type": "code",
   "execution_count": 7,
   "metadata": {},
   "outputs": [
    {
     "data": {
      "text/plain": [
       "b'\\x00\\x00\\x00\\x00\\x00\\x00\\x00\\x00\\x00\\x00\\x00\\x00\\x00\\x00\\x00\\x00\\x00\\x00\\x00\\x00'"
      ]
     },
     "execution_count": 7,
     "metadata": {},
     "output_type": "execute_result"
    }
   ],
   "source": [
    "bytes(result.create_address.bytes)"
   ]
  },
  {
   "cell_type": "code",
   "execution_count": 8,
   "metadata": {},
   "outputs": [],
   "source": [
    "def evmc_get_storage(address:int, key:int):\n",
    "    _evmc_get_storage = handle.evmc_get_storage\n",
    "\n",
    "    result = ctypes.c_int32()\n",
    "    _evmc_get_storage(\n",
    "                    ctypes.pointer(ctypes.c_int32(address)), \n",
    "                    ctypes.pointer(ctypes.c_int32(key)), \n",
    "                    ctypes.pointer(result))\n",
    "    \n",
    "    return result"
   ]
  },
  {
   "cell_type": "code",
   "execution_count": 9,
   "metadata": {},
   "outputs": [
    {
     "name": "stdout",
     "output_type": "stream",
     "text": [
      "c_int(0)\n",
      "c_int(0)\n",
      "c_int(0)\n",
      "c_int(0)\n",
      "c_int(0)\n",
      "c_int(0)\n",
      "c_int(0)\n",
      "c_int(0)\n",
      "c_int(0)\n",
      "c_int(0)\n",
      "c_int(0)\n",
      "c_int(0)\n",
      "c_int(0)\n",
      "c_int(0)\n",
      "c_int(0)\n",
      "c_int(0)\n",
      "c_int(0)\n",
      "c_int(0)\n",
      "c_int(0)\n",
      "c_int(0)\n",
      "c_int(0)\n",
      "c_int(0)\n",
      "c_int(0)\n",
      "c_int(0)\n",
      "c_int(0)\n",
      "c_int(0)\n",
      "c_int(0)\n",
      "c_int(0)\n",
      "c_int(0)\n",
      "c_int(0)\n",
      "c_int(0)\n",
      "c_int(0)\n",
      "c_int(0)\n",
      "c_int(0)\n",
      "c_int(0)\n",
      "c_int(0)\n",
      "c_int(0)\n",
      "c_int(0)\n",
      "c_int(0)\n",
      "c_int(0)\n",
      "c_int(0)\n",
      "c_int(0)\n",
      "c_int(0)\n",
      "c_int(0)\n",
      "c_int(0)\n",
      "c_int(0)\n",
      "c_int(0)\n",
      "c_int(0)\n",
      "c_int(0)\n",
      "c_int(0)\n",
      "c_int(0)\n",
      "c_int(0)\n",
      "c_int(0)\n",
      "c_int(0)\n",
      "c_int(0)\n",
      "c_int(0)\n",
      "c_int(0)\n",
      "c_int(0)\n",
      "c_int(0)\n",
      "c_int(0)\n",
      "c_int(0)\n",
      "c_int(0)\n",
      "c_int(0)\n",
      "c_int(0)\n",
      "c_int(0)\n",
      "c_int(0)\n",
      "c_int(0)\n",
      "c_int(0)\n",
      "c_int(0)\n",
      "c_int(0)\n",
      "c_int(0)\n",
      "c_int(0)\n",
      "c_int(0)\n",
      "c_int(0)\n",
      "c_int(0)\n",
      "c_int(0)\n",
      "c_int(0)\n",
      "c_int(0)\n",
      "c_int(0)\n",
      "c_int(0)\n",
      "c_int(0)\n",
      "c_int(0)\n",
      "c_int(0)\n",
      "c_int(0)\n",
      "c_int(0)\n",
      "c_int(0)\n",
      "c_int(0)\n",
      "c_int(0)\n",
      "c_int(0)\n",
      "c_int(0)\n",
      "c_int(0)\n",
      "c_int(0)\n",
      "c_int(0)\n",
      "c_int(0)\n",
      "c_int(0)\n",
      "c_int(0)\n",
      "c_int(0)\n",
      "c_int(0)\n",
      "c_int(0)\n",
      "c_int(0)\n"
     ]
    }
   ],
   "source": [
    "for i in range(100):\n",
    "    print(evmc_get_storage(0x12345678, i))"
   ]
  },
  {
   "cell_type": "code",
   "execution_count": null,
   "metadata": {},
   "outputs": [],
   "source": []
  },
  {
   "cell_type": "code",
   "execution_count": 3,
   "metadata": {},
   "outputs": [
    {
     "name": "stdout",
     "output_type": "stream",
     "text": [
      "EVMC_SUCCESS\n"
     ]
    }
   ],
   "source": [
    "_, result = evmc_vm_deploy(open('wasm/erc20-deploy.wasm', 'rb').read())\n",
    "print(_)"
   ]
  },
  {
   "cell_type": "code",
   "execution_count": 4,
   "metadata": {},
   "outputs": [],
   "source": [
    "erc20 = open('wasm/erc20.wasm', 'rb').read()\n",
    "calldata = unhexlify(\"70a08231\" + \"000000000000000000000000000000000000000000000000000000007fffffff\")\n",
    "sender = unhexlify(\"000000000000000000000000000000007fffffff\")"
   ]
  },
  {
   "cell_type": "code",
   "execution_count": 5,
   "metadata": {},
   "outputs": [],
   "source": [
    "_, result = evmc_vm_execute(calldata, sender, erc20)"
   ]
  },
  {
   "cell_type": "code",
   "execution_count": 6,
   "metadata": {},
   "outputs": [],
   "source": [
    "buffer = ctypes.cast(result.output_data, ctypes.POINTER(ctypes.c_byte * result.output_size))"
   ]
  },
  {
   "cell_type": "code",
   "execution_count": 30,
   "metadata": {},
   "outputs": [
    {
     "ename": "ValueError",
     "evalue": "NULL pointer access",
     "output_type": "error",
     "traceback": [
      "\u001b[0;31m---------------------------------------------------------------------------\u001b[0m",
      "\u001b[0;31mValueError\u001b[0m                                Traceback (most recent call last)",
      "\u001b[0;32m<ipython-input-30-bcd2ea06921f>\u001b[0m in \u001b[0;36m<module>\u001b[0;34m\u001b[0m\n\u001b[0;32m----> 1\u001b[0;31m \u001b[0mbytes\u001b[0m\u001b[0;34m(\u001b[0m\u001b[0mbuffer\u001b[0m\u001b[0;34m.\u001b[0m\u001b[0mcontents\u001b[0m\u001b[0;34m)\u001b[0m\u001b[0;34m\u001b[0m\u001b[0;34m\u001b[0m\u001b[0m\n\u001b[0m",
      "\u001b[0;31mValueError\u001b[0m: NULL pointer access"
     ]
    }
   ],
   "source": [
    "bytes(buffer.contents)"
   ]
  }
 ],
 "metadata": {
  "kernelspec": {
   "display_name": "Python 3",
   "language": "python",
   "name": "python3"
  },
  "language_info": {
   "codemirror_mode": {
    "name": "ipython",
    "version": 3
   },
   "file_extension": ".py",
   "mimetype": "text/x-python",
   "name": "python",
   "nbconvert_exporter": "python",
   "pygments_lexer": "ipython3",
   "version": "3.8.6"
  }
 },
 "nbformat": 4,
 "nbformat_minor": 4
}
