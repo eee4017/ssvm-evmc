{
 "cells": [
  {
   "cell_type": "code",
   "execution_count": 1,
   "metadata": {},
   "outputs": [],
   "source": [
    "import ctypes\n",
    "from binascii import unhexlify\n",
    "from evmc import *\n",
    "import os, signal\n",
    "from Crypto.Util.number import *\n",
    "\n",
    "handle = ctypes.cdll.LoadLibrary('./libsoll_runtime_test.so')\n",
    "\n",
    "def evmc_vm_execute(calldata:bytes, sender:bytes, wasm:bytes):\n",
    "    _evmc_vm_execute = handle.evmc_vm_execute\n",
    "    \n",
    "    _sender = ctypes.c_buffer(long_to_bytes(0x7ffffffff), size=20)\n",
    "    _destination = ctypes.c_buffer(long_to_bytes(0x7ffffffff), size=20)\n",
    "    \n",
    "    \n",
    "    result = struct_evmc_result()\n",
    "    _evmc_vm_execute( \n",
    "                    ctypes.cast(calldata, ctypes.c_char_p), \n",
    "                    len(calldata), \n",
    "                    ctypes.pointer(_sender),\n",
    "                    ctypes.pointer(_destination),\n",
    "                    ctypes.cast(wasm, ctypes.c_char_p), \n",
    "                    len(wasm), \n",
    "                    ctypes.pointer(result))\n",
    "    \n",
    "    return evmc_status_code__enumvalues[result.status_code], result\n",
    "\n",
    "def evmc_vm_deploy(deploy_wasm:bytes):\n",
    "    _evmc_vm_deploy = handle.evmc_vm_deploy\n",
    "\n",
    "    result = struct_evmc_result()\n",
    "    _evmc_vm_deploy(ctypes.cast(deploy_wasm, ctypes.c_char_p), \n",
    "                    len(deploy_wasm), \n",
    "                    ctypes.pointer(result))\n",
    "    \n",
    "    return evmc_status_code__enumvalues[result.status_code], result"
   ]
  },
  {
   "cell_type": "code",
   "execution_count": 2,
   "metadata": {},
   "outputs": [],
   "source": [
    "a = (ctypes.c_byte)(0x7ffffffff)"
   ]
  },
  {
   "cell_type": "code",
   "execution_count": 3,
   "metadata": {},
   "outputs": [],
   "source": [
    "def b2cb(ba):\n",
    "    char_array = (ctypes.c_buffer * len(ba))\n",
    "    \n",
    "    return char_array.from_buffer(ba)"
   ]
  },
  {
   "cell_type": "code",
   "execution_count": 4,
   "metadata": {},
   "outputs": [],
   "source": [
    "k = long_to_bytes(0x7ffffffff)"
   ]
  },
  {
   "cell_type": "code",
   "execution_count": 5,
   "metadata": {},
   "outputs": [],
   "source": [
    "_sender = struct_evmc_address()\n",
    "_sender.bytes = bytes(ctypes.c_buffer(long_to_bytes(0x7ffffffff), size=20))"
   ]
  },
  {
   "cell_type": "code",
   "execution_count": 6,
   "metadata": {},
   "outputs": [],
   "source": [
    "s = ctypes.c_buffer(long_to_bytes(0x7ffffffff), size=20)"
   ]
  },
  {
   "cell_type": "code",
   "execution_count": 24,
   "metadata": {},
   "outputs": [
    {
     "data": {
      "text/plain": [
       "b'\\x00\\x00\\x00\\x00\\x00\\x00\\x00\\x00\\x00\\x00\\x00\\x00\\x00\\x00\\x00\\x07\\xff\\xff\\xff\\xff'"
      ]
     },
     "execution_count": 24,
     "metadata": {},
     "output_type": "execute_result"
    }
   ],
   "source": [
    "ctypes.c_buffer(long_to_bytes(0x7ffffffff)[::-1], size=20)[::-1]"
   ]
  },
  {
   "cell_type": "code",
   "execution_count": null,
   "metadata": {},
   "outputs": [],
   "source": [
    "basic_sstore = open('wasm/basic_sstore.wasm', 'rb').read()\n",
    "calldata = unhexlify(\"\")\n",
    "sender = unhexlify(\"\")\n",
    "result_str, result = evmc_vm_execute(calldata, sender, comparison_lt)\n",
    "print(result_str)"
   ]
  },
  {
   "cell_type": "code",
   "execution_count": 9,
   "metadata": {},
   "outputs": [],
   "source": [
    "comparison_lt = open('wasm/comparison_lt.wasm', 'rb').read()"
   ]
  },
  {
   "cell_type": "code",
   "execution_count": 10,
   "metadata": {},
   "outputs": [],
   "source": [
    "calldata = unhexlify(\"\")\n",
    "sender = long_to_bytes(0x7ffffffff)"
   ]
  },
  {
   "cell_type": "code",
   "execution_count": 11,
   "metadata": {},
   "outputs": [],
   "source": [
    "_, result = evmc_vm_execute(calldata, sender, comparison_lt)"
   ]
  },
  {
   "cell_type": "code",
   "execution_count": 12,
   "metadata": {},
   "outputs": [
    {
     "name": "stdout",
     "output_type": "stream",
     "text": [
      "EVMC_SUCCESS\n"
     ]
    }
   ],
   "source": [
    "print(_) "
   ]
  },
  {
   "cell_type": "code",
   "execution_count": 5,
   "metadata": {},
   "outputs": [
    {
     "ename": "TypeError",
     "evalue": "one character bytes, bytearray or integer expected",
     "output_type": "error",
     "traceback": [
      "\u001b[0;31m---------------------------------------------------------------------------\u001b[0m",
      "\u001b[0;31mTypeError\u001b[0m                                 Traceback (most recent call last)",
      "\u001b[0;32m<ipython-input-5-3221855557f9>\u001b[0m in \u001b[0;36m<module>\u001b[0;34m\u001b[0m\n\u001b[0;32m----> 1\u001b[0;31m \u001b[0;34m(\u001b[0m\u001b[0mctypes\u001b[0m\u001b[0;34m.\u001b[0m\u001b[0mc_char\u001b[0m \u001b[0;34m*\u001b[0m \u001b[0;36m32\u001b[0m\u001b[0;34m)\u001b[0m\u001b[0;34m(\u001b[0m\u001b[0mlong_to_bytes\u001b[0m\u001b[0;34m(\u001b[0m\u001b[0;36m0x7ffffffff\u001b[0m\u001b[0;34m)\u001b[0m\u001b[0;34m)\u001b[0m\u001b[0;34m\u001b[0m\u001b[0;34m\u001b[0m\u001b[0m\n\u001b[0m",
      "\u001b[0;31mTypeError\u001b[0m: one character bytes, bytearray or integer expected"
     ]
    }
   ],
   "source": [
    "(ctypes.c_char * 32)(long_to_bytes(0x7ffffffff))"
   ]
  },
  {
   "cell_type": "code",
   "execution_count": 7,
   "metadata": {},
   "outputs": [
    {
     "data": {
      "text/plain": [
       "<__main__.c_char_Array_32 at 0x7fc2e70abbc0>"
      ]
     },
     "execution_count": 7,
     "metadata": {},
     "output_type": "execute_result"
    }
   ],
   "source": []
  },
  {
   "cell_type": "code",
   "execution_count": 12,
   "metadata": {},
   "outputs": [],
   "source": [
    "def evmc_get_storage(address:int, key:bytes):\n",
    "    _evmc_get_storage = handle.evmc_get_storage\n",
    "    \n",
    "    address = ctypes.c_buffer(long_to_bytes(address), size=20)\n",
    "    key = ctypes.c_buffer(long_to_bytes(key), size=32)\n",
    "    result = ctypes.c_buffer(b'1', size=32)\n",
    "    \n",
    "    _evmc_get_storage(\n",
    "                    ctypes.pointer(address), \n",
    "                    ctypes.pointer(key), \n",
    "                    ctypes.pointer(result))\n",
    "    \n",
    "    return result"
   ]
  },
  {
   "cell_type": "code",
   "execution_count": 17,
   "metadata": {},
   "outputs": [
    {
     "data": {
      "text/plain": [
       "<ctypes.c_char_Array_0 at 0x7fc2e6d16840>"
      ]
     },
     "execution_count": 17,
     "metadata": {},
     "output_type": "execute_result"
    }
   ],
   "source": [
    "evmc_get_storage(0x7ffffffff, 0x3)"
   ]
  },
  {
   "cell_type": "code",
   "execution_count": 29,
   "metadata": {},
   "outputs": [
    {
     "data": {
      "text/plain": [
       "b'\\x00\\x00\\x00\\x00\\x00\\x00\\x00\\x00\\x00\\x00\\x00\\x00\\x00\\x00\\x00\\x00\\x00\\x00\\xef\\x88'"
      ]
     },
     "execution_count": 29,
     "metadata": {},
     "output_type": "execute_result"
    }
   ],
   "source": [
    "long_to_bytes(0xef88).rjust(20, b'\\x00')"
   ]
  },
  {
   "cell_type": "code",
   "execution_count": 5,
   "metadata": {},
   "outputs": [],
   "source": [
    "_, result = evmc_vm_deploy(comparison_lt)"
   ]
  },
  {
   "cell_type": "code",
   "execution_count": 7,
   "metadata": {},
   "outputs": [
    {
     "data": {
      "text/plain": [
       "b'\\x00\\x00\\x00\\x00\\x00\\x00\\x00\\x00\\x00\\x00\\x00\\x00\\x00\\x00\\x00\\x00\\x00\\x00\\x00\\x00'"
      ]
     },
     "execution_count": 7,
     "metadata": {},
     "output_type": "execute_result"
    }
   ],
   "source": [
    "bytes(result.create_address.bytes)"
   ]
  },
  {
   "cell_type": "code",
   "execution_count": 20,
   "metadata": {},
   "outputs": [
    {
     "name": "stdout",
     "output_type": "stream",
     "text": [
      "c_int(0)\n",
      "c_int(0)\n",
      "c_int(0)\n",
      "c_int(0)\n",
      "c_int(0)\n",
      "c_int(0)\n",
      "c_int(0)\n",
      "c_int(0)\n",
      "c_int(0)\n",
      "c_int(0)\n"
     ]
    }
   ],
   "source": [
    "for i in range(10):\n",
    "    print(evmc_get_storage(0x7ffffffff, i))"
   ]
  },
  {
   "cell_type": "code",
   "execution_count": 4,
   "metadata": {},
   "outputs": [
    {
     "name": "stdout",
     "output_type": "stream",
     "text": [
      "EVMC_SUCCESS\n"
     ]
    }
   ],
   "source": [
    "result_str, result = evmc_vm_deploy(open('wasm/erc20-deploy.wasm', 'rb').read())\n",
    "print(result_str)"
   ]
  },
  {
   "cell_type": "code",
   "execution_count": 5,
   "metadata": {},
   "outputs": [],
   "source": [
    "erc20 = open('wasm/erc20.wasm', 'rb').read()\n",
    "calldata = unhexlify(\"70a08231\" + \"000000000000000000000000000000000000000000000000000000007fffffff\")\n",
    "sender = unhexlify(\"000000000000000000000000000000007fffffff\")"
   ]
  },
  {
   "cell_type": "code",
   "execution_count": 6,
   "metadata": {},
   "outputs": [],
   "source": [
    "_, result = evmc_vm_execute(calldata, sender, erc20)"
   ]
  },
  {
   "cell_type": "code",
   "execution_count": 7,
   "metadata": {},
   "outputs": [],
   "source": [
    "buffer = ctypes.cast(result.output_data, ctypes.POINTER(ctypes.c_byte * result.output_size))"
   ]
  },
  {
   "cell_type": "code",
   "execution_count": 8,
   "metadata": {},
   "outputs": [
    {
     "data": {
      "text/plain": [
       "b'\\x00\\x00\\x00\\x00\\x00\\x00\\x00\\x00\\x00\\x00\\x00\\x00\\x00\\x00\\x00\\x00\\x00\\x00\\x00\\x00\\x00\\x00\\x00\\x00\\x00\\x00\\x00\\x00\\x00\\x00\\x00\\x00'"
      ]
     },
     "execution_count": 8,
     "metadata": {},
     "output_type": "execute_result"
    }
   ],
   "source": [
    "bytes(buffer.contents)"
   ]
  },
  {
   "cell_type": "code",
   "execution_count": null,
   "metadata": {},
   "outputs": [],
   "source": []
  }
 ],
 "metadata": {
  "kernelspec": {
   "display_name": "Python 3",
   "language": "python",
   "name": "python3"
  },
  "language_info": {
   "codemirror_mode": {
    "name": "ipython",
    "version": 3
   },
   "file_extension": ".py",
   "mimetype": "text/x-python",
   "name": "python",
   "nbconvert_exporter": "python",
   "pygments_lexer": "ipython3",
   "version": "3.8.6"
  }
 },
 "nbformat": 4,
 "nbformat_minor": 4
}
