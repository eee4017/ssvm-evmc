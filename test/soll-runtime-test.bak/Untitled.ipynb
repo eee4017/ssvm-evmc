{
 "cells": [
  {
   "cell_type": "code",
   "execution_count": 32,
   "metadata": {},
   "outputs": [],
   "source": [
    "from evmc import *"
   ]
  },
  {
   "cell_type": "code",
   "execution_count": 33,
   "metadata": {},
   "outputs": [],
   "source": [
    "import ctypes"
   ]
  },
  {
   "cell_type": "code",
   "execution_count": 34,
   "metadata": {},
   "outputs": [],
   "source": [
    "class struct_evmc_bytes32(ctypes.Structure):\n",
    "    _pack_ = True # source:False\n",
    "    _fields_ = [\n",
    "        ('bytes', ctypes.c_byte * 32 )\n",
    "    ]\n",
    "    \n",
    "struct_evmc_uint256be = struct_evmc_bytes32\n",
    "\n",
    "class struct_evmc_address(ctypes.Structure):\n",
    "    _pack_ = True # source:False\n",
    "    _fields_ = [\n",
    "        ('bytes', ctypes.c_byte * 20 )\n",
    "    ]\n",
    "class struct_evmc_host_interface(ctypes.Structure):\n",
    "    _pack_ = True # source:False\n",
    "    _fields_ = [\n",
    "        ('account_exists', ctypes.c_void_p), \n",
    "        ('get_storage', ctypes.c_void_p), \n",
    "        ('set_storage', ctypes.c_void_p), \n",
    "        ('get_balance', ctypes.c_void_p), \n",
    "        ('get_code_size', ctypes.c_void_p), \n",
    "        ('get_code_hash', ctypes.c_void_p), \n",
    "        ('copy_code', ctypes.c_void_p), \n",
    "        ('selfdestruct', ctypes.c_void_p), \n",
    "        ('call', ctypes.c_void_p), \n",
    "        ('get_tx_context', ctypes.c_void_p), \n",
    "        ('get_block_hash', ctypes.c_void_p), \n",
    "        ('emit_log', ctypes.c_void_p)\n",
    "    ]\n",
    "    \n",
    "class struct_evmc_result(ctypes.Structure):\n",
    "    _fields_ = [\n",
    "        ('status_code', ctypes.c_int ),\n",
    "        ('gas_left', ctypes.c_int64 ),\n",
    "        ('output_data', ctypes.POINTER(ctypes.c_int8) ),\n",
    "        ('output_size', ctypes.c_size_t ),\n",
    "        ('release', ctypes.c_void_p ),\n",
    "        ('create_address', struct_evmc_address ),\n",
    "        ('padding', ctypes.c_byte * 4 ),\n",
    "    ]\n",
    "\n",
    "\n",
    "class struct_evmc_host_context(ctypes.Structure):\n",
    "    pass\n",
    "\n",
    "class struct_evmc_message(ctypes.Structure):\n",
    "    _pack_ = True # source:False\n",
    "    _fields_ = [\n",
    "        ('kind', ctypes.c_int ),\n",
    "        ('flags', ctypes.c_uint32 ),\n",
    "        ('depth', ctypes.c_int32 ),\n",
    "        ('gas', ctypes.c_int64 ),\n",
    "        ('destination', struct_evmc_address ),\n",
    "        ('sender', struct_evmc_address ),\n",
    "        ('input_data', ctypes.POINTER(ctypes.c_byte) ),\n",
    "        ('input_size', ctypes.c_size_t ),\n",
    "        ('value', struct_evmc_uint256be ),\n",
    "        ('create2_salt', struct_evmc_bytes32 ),\n",
    "    ]\n",
    "    \n",
    "class struct_evmc_vm(ctypes.Structure):\n",
    "    _pack_ = True # source:False\n",
    "    _fields_ = [\n",
    "        ('abi_version', ctypes.c_int),\n",
    "        ('name', ctypes.c_char_p),\n",
    "        ('version', ctypes.c_char_p),\n",
    "        ('destroy', ctypes.c_void_p),\n",
    "        ('execute', ctypes.c_void_p),\n",
    "        ('get_capabilities', ctypes.c_void_p),\n",
    "        ('set_option', ctypes.c_void_p)\n",
    "    ]\n",
    "    "
   ]
  },
  {
   "cell_type": "code",
   "execution_count": 35,
   "metadata": {},
   "outputs": [],
   "source": [
    "# class \n",
    "handle = ctypes.cdll.LoadLibrary('./libssvm-evmc.so')"
   ]
  },
  {
   "cell_type": "code",
   "execution_count": 36,
   "metadata": {},
   "outputs": [],
   "source": [
    "evmc_create = handle.evmc_create\n",
    "evmc_create.restype = ctypes.POINTER(struct_evmc_vm)"
   ]
  },
  {
   "cell_type": "code",
   "execution_count": 37,
   "metadata": {},
   "outputs": [],
   "source": [
    "vm = evmc_create()"
   ]
  },
  {
   "cell_type": "code",
   "execution_count": 40,
   "metadata": {},
   "outputs": [],
   "source": [
    "evmc_execute_fn = ctypes.CFUNCTYPE(\n",
    "    struct_evmc_result,\n",
    "    ctypes.POINTER(struct_evmc_vm), \n",
    "    ctypes.POINTER(struct_evmc_host_interface),\n",
    "    ctypes.POINTER(struct_evmc_host_context),\n",
    "    ctypes.c_int,\n",
    "    ctypes.POINTER(struct_evmc_message),\n",
    "    ctypes.c_char_p,\n",
    "    ctypes.c_size_t\n",
    ")"
   ]
  },
  {
   "cell_type": "code",
   "execution_count": 41,
   "metadata": {},
   "outputs": [],
   "source": [
    "execute = evmc_execute_fn(vm.contents.execute)"
   ]
  },
  {
   "cell_type": "code",
   "execution_count": 26,
   "metadata": {},
   "outputs": [],
   "source": [
    "interface = struct_evmc_host_interface()\n",
    "context = struct_evmc_host_context()"
   ]
  },
  {
   "cell_type": "code",
   "execution_count": 42,
   "metadata": {},
   "outputs": [],
   "source": [
    "message = struct_evmc_message()"
   ]
  },
  {
   "cell_type": "code",
   "execution_count": null,
   "metadata": {},
   "outputs": [],
   "source": [
    "message.kind = EV"
   ]
  },
  {
   "cell_type": "code",
   "execution_count": null,
   "metadata": {},
   "outputs": [],
   "source": [
    "execute(vm, id(interface), id(context), EVMC_MAX_REVISION, )"
   ]
  },
  {
   "cell_type": "code",
   "execution_count": 23,
   "metadata": {},
   "outputs": [
    {
     "data": {
      "text/plain": [
       "<__main__.LP_struct_evmc_vm at 0x7f84525bdac0>"
      ]
     },
     "execution_count": 23,
     "metadata": {},
     "output_type": "execute_result"
    }
   ],
   "source": [
    "vm"
   ]
  },
  {
   "cell_type": "code",
   "execution_count": null,
   "metadata": {},
   "outputs": [],
   "source": []
  }
 ],
 "metadata": {
  "kernelspec": {
   "display_name": "Python 3",
   "language": "python",
   "name": "python3"
  },
  "language_info": {
   "codemirror_mode": {
    "name": "ipython",
    "version": 3
   },
   "file_extension": ".py",
   "mimetype": "text/x-python",
   "name": "python",
   "nbconvert_exporter": "python",
   "pygments_lexer": "ipython3",
   "version": "3.8.6"
  }
 },
 "nbformat": 4,
 "nbformat_minor": 4
}
